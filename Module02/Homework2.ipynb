{
 "cells": [
  {
   "cell_type": "markdown",
   "id": "7e339ed6",
   "metadata": {},
   "source": [
    "Preparing the Dataset"
   ]
  },
  {
   "cell_type": "code",
   "execution_count": 107,
   "id": "7b0fed1b",
   "metadata": {},
   "outputs": [
    {
     "name": "stdout",
     "output_type": "stream",
     "text": [
      "   engine_displacement  num_cylinders  horsepower  vehicle_weight  \\\n",
      "0                  170            3.0       159.0     3413.433759   \n",
      "1                  130            5.0        97.0     3149.664934   \n",
      "2                  170            NaN        78.0     3079.038997   \n",
      "3                  220            4.0         NaN     2542.392402   \n",
      "4                  210            1.0       140.0     3460.870990   \n",
      "\n",
      "   acceleration  model_year  origin fuel_type         drivetrain  num_doors  \\\n",
      "0          17.7        2003  Europe  Gasoline    All-wheel drive        0.0   \n",
      "1          17.8        2007     USA  Gasoline  Front-wheel drive        0.0   \n",
      "2          15.1        2018  Europe  Gasoline  Front-wheel drive        0.0   \n",
      "3          20.2        2009     USA    Diesel    All-wheel drive        2.0   \n",
      "4          14.4        2009  Europe  Gasoline    All-wheel drive        2.0   \n",
      "\n",
      "   fuel_efficiency_mpg  \n",
      "0            13.231729  \n",
      "1            13.688217  \n",
      "2            14.246341  \n",
      "3            16.912736  \n",
      "4            12.488369  \n"
     ]
    }
   ],
   "source": [
    "import pandas as pd\n",
    "import numpy as np\n",
    "\n",
    "url = \"https://raw.githubusercontent.com/alexeygrigorev/datasets/master/car_fuel_efficiency.csv\"\n",
    "df = pd.read_csv(url)\n",
    "print(df.head())"
   ]
  },
  {
   "cell_type": "code",
   "execution_count": 33,
   "id": "2062c5dd",
   "metadata": {},
   "outputs": [
    {
     "data": {
      "text/plain": [
       "Index(['engine_displacement', 'num_cylinders', 'horsepower', 'vehicle_weight',\n",
       "       'acceleration', 'model_year', 'origin', 'fuel_type', 'drivetrain',\n",
       "       'num_doors', 'fuel_efficiency_mpg'],\n",
       "      dtype='object')"
      ]
     },
     "execution_count": 33,
     "metadata": {},
     "output_type": "execute_result"
    }
   ],
   "source": [
    "df.columns"
   ]
  },
  {
   "cell_type": "code",
   "execution_count": 108,
   "id": "3e7a98ac",
   "metadata": {},
   "outputs": [
    {
     "data": {
      "text/html": [
       "<div>\n",
       "<style scoped>\n",
       "    .dataframe tbody tr th:only-of-type {\n",
       "        vertical-align: middle;\n",
       "    }\n",
       "\n",
       "    .dataframe tbody tr th {\n",
       "        vertical-align: top;\n",
       "    }\n",
       "\n",
       "    .dataframe thead th {\n",
       "        text-align: right;\n",
       "    }\n",
       "</style>\n",
       "<table border=\"1\" class=\"dataframe\">\n",
       "  <thead>\n",
       "    <tr style=\"text-align: right;\">\n",
       "      <th></th>\n",
       "      <th>engine_displacement</th>\n",
       "      <th>horsepower</th>\n",
       "      <th>vehicle_weight</th>\n",
       "      <th>model_year</th>\n",
       "      <th>fuel_efficiency_mpg</th>\n",
       "    </tr>\n",
       "  </thead>\n",
       "  <tbody>\n",
       "    <tr>\n",
       "      <th>0</th>\n",
       "      <td>170</td>\n",
       "      <td>159.0</td>\n",
       "      <td>3413.433759</td>\n",
       "      <td>2003</td>\n",
       "      <td>13.231729</td>\n",
       "    </tr>\n",
       "    <tr>\n",
       "      <th>1</th>\n",
       "      <td>130</td>\n",
       "      <td>97.0</td>\n",
       "      <td>3149.664934</td>\n",
       "      <td>2007</td>\n",
       "      <td>13.688217</td>\n",
       "    </tr>\n",
       "    <tr>\n",
       "      <th>2</th>\n",
       "      <td>170</td>\n",
       "      <td>78.0</td>\n",
       "      <td>3079.038997</td>\n",
       "      <td>2018</td>\n",
       "      <td>14.246341</td>\n",
       "    </tr>\n",
       "    <tr>\n",
       "      <th>3</th>\n",
       "      <td>220</td>\n",
       "      <td>NaN</td>\n",
       "      <td>2542.392402</td>\n",
       "      <td>2009</td>\n",
       "      <td>16.912736</td>\n",
       "    </tr>\n",
       "    <tr>\n",
       "      <th>4</th>\n",
       "      <td>210</td>\n",
       "      <td>140.0</td>\n",
       "      <td>3460.870990</td>\n",
       "      <td>2009</td>\n",
       "      <td>12.488369</td>\n",
       "    </tr>\n",
       "  </tbody>\n",
       "</table>\n",
       "</div>"
      ],
      "text/plain": [
       "   engine_displacement  horsepower  vehicle_weight  model_year  \\\n",
       "0                  170       159.0     3413.433759        2003   \n",
       "1                  130        97.0     3149.664934        2007   \n",
       "2                  170        78.0     3079.038997        2018   \n",
       "3                  220         NaN     2542.392402        2009   \n",
       "4                  210       140.0     3460.870990        2009   \n",
       "\n",
       "   fuel_efficiency_mpg  \n",
       "0            13.231729  \n",
       "1            13.688217  \n",
       "2            14.246341  \n",
       "3            16.912736  \n",
       "4            12.488369  "
      ]
     },
     "execution_count": 108,
     "metadata": {},
     "output_type": "execute_result"
    }
   ],
   "source": [
    "df_new = df[['engine_displacement', 'horsepower', 'vehicle_weight', 'model_year', 'fuel_efficiency_mpg']]\n",
    "df_new.head()"
   ]
  },
  {
   "cell_type": "code",
   "execution_count": 35,
   "id": "800feb30",
   "metadata": {},
   "outputs": [
    {
     "data": {
      "text/plain": [
       "engine_displacement      int64\n",
       "horsepower             float64\n",
       "vehicle_weight         float64\n",
       "model_year               int64\n",
       "fuel_efficiency_mpg    float64\n",
       "dtype: object"
      ]
     },
     "execution_count": 35,
     "metadata": {},
     "output_type": "execute_result"
    }
   ],
   "source": [
    "df_new.dtypes"
   ]
  },
  {
   "cell_type": "markdown",
   "id": "6466876b",
   "metadata": {},
   "source": [
    "Exploratory Data Analysis"
   ]
  },
  {
   "cell_type": "code",
   "execution_count": 36,
   "id": "7543f1df",
   "metadata": {},
   "outputs": [
    {
     "name": "stdout",
     "output_type": "stream",
     "text": [
      "engine_displacement [170 130 220 210 190] 36 \n",
      "\n",
      "horsepower [159.  97.  78.  nan 140.] 192 \n",
      "\n",
      "vehicle_weight [3413.43375861 3149.66493422 3079.03899737 2542.39240183 3460.87098999] 9704 \n",
      "\n",
      "model_year [2003 2007 2018 2009 2008] 24 \n",
      "\n",
      "fuel_efficiency_mpg [13.23172891 13.68821744 14.246341   16.9127356  12.48836912] 9704 \n",
      "\n"
     ]
    }
   ],
   "source": [
    "for col in df_new.columns:\n",
    "    print(col, df_new[col].unique()[:5], df_new[col].nunique(),\"\\n\")"
   ]
  },
  {
   "cell_type": "markdown",
   "id": "e8e94b0b",
   "metadata": {},
   "source": [
    "Look at the fuel_efficiency_mpg variable. Does it have a long tail?"
   ]
  },
  {
   "cell_type": "code",
   "execution_count": 37,
   "id": "956fc147",
   "metadata": {},
   "outputs": [
    {
     "data": {
      "text/plain": [
       "<Axes: xlabel='fuel_efficiency_mpg', ylabel='Count'>"
      ]
     },
     "execution_count": 37,
     "metadata": {},
     "output_type": "execute_result"
    },
    {
     "data": {
      "image/png": "[encoded data removed]",
      "text/plain": [
       "<Figure size 640x480 with 1 Axes>"
      ]
     },
     "metadata": {},
     "output_type": "display_data"
    }
   ],
   "source": [
    "import matplotlib.pyplot as plt\n",
    "import seaborn as sns\n",
    "\n",
    "%matplotlib inline\n",
    "\n",
    "# Histogram Plot\n",
    "sns.histplot(df_new.fuel_efficiency_mpg, bins=50)"
   ]
  },
  {
   "cell_type": "markdown",
   "id": "190e8371",
   "metadata": {},
   "source": [
    "There's one column with missing values. What is it?\n",
    "\n",
    "'engine_displacement'\n",
    "'horsepower'\n",
    "'vehicle_weight'\n",
    "'model_year'"
   ]
  },
  {
   "cell_type": "code",
   "execution_count": 38,
   "id": "6e43eac6",
   "metadata": {},
   "outputs": [
    {
     "data": {
      "text/plain": [
       "engine_displacement      0\n",
       "horsepower             708\n",
       "vehicle_weight           0\n",
       "model_year               0\n",
       "fuel_efficiency_mpg      0\n",
       "dtype: int64"
      ]
     },
     "execution_count": 38,
     "metadata": {},
     "output_type": "execute_result"
    }
   ],
   "source": [
    "df_new.isnull().sum()"
   ]
  },
  {
   "cell_type": "markdown",
   "id": "47f15be9",
   "metadata": {},
   "source": [
    "What's the median (50% percentile) for variable 'horsepower'?\n",
    "\n",
    "49\n",
    "99\n",
    "149\n",
    "199"
   ]
  },
  {
   "cell_type": "code",
   "execution_count": 39,
   "id": "99369e65",
   "metadata": {},
   "outputs": [
    {
     "data": {
      "text/plain": [
       "np.float64(149.65729212983547)"
      ]
     },
     "execution_count": 39,
     "metadata": {},
     "output_type": "execute_result"
    }
   ],
   "source": [
    "df_new['horsepower'].mean()"
   ]
  },
  {
   "cell_type": "code",
   "execution_count": 40,
   "id": "85bd9cea",
   "metadata": {},
   "outputs": [
    {
     "data": {
      "text/plain": [
       "np.float64(149.0)"
      ]
     },
     "execution_count": 40,
     "metadata": {},
     "output_type": "execute_result"
    }
   ],
   "source": [
    "df_new['horsepower'].median()"
   ]
  },
  {
   "cell_type": "markdown",
   "id": "59c3ef38",
   "metadata": {},
   "source": [
    "Prepare and split the dataset\n",
    "Shuffle the dataset (the filtered one you created above), use seed 42.\n",
    "Split your data in train/val/test sets, with 60%/20%/20% distribution.\n",
    "Use the same code as in the lectures"
   ]
  },
  {
   "cell_type": "code",
   "execution_count": 41,
   "id": "61572af8",
   "metadata": {},
   "outputs": [],
   "source": [
    "#Train - 60%, Val - 20%, Test - 20%\n",
    "n = len(df)\n",
    "n_val= int(len(df) * 0.2)\n",
    "n_test= int(len(df) * 0.2)\n",
    "n_train = n - n_val - n_test"
   ]
  },
  {
   "cell_type": "code",
   "execution_count": 42,
   "id": "44cc9ed6",
   "metadata": {},
   "outputs": [
    {
     "data": {
      "text/plain": [
       "(9704, 9704)"
      ]
     },
     "execution_count": 42,
     "metadata": {},
     "output_type": "execute_result"
    }
   ],
   "source": [
    "n, n_train + n_val + n_test"
   ]
  },
  {
   "cell_type": "code",
   "execution_count": 43,
   "id": "3f1d19ae",
   "metadata": {},
   "outputs": [
    {
     "data": {
      "text/plain": [
       "(5824, 1940, 1940)"
      ]
     },
     "execution_count": 43,
     "metadata": {},
     "output_type": "execute_result"
    }
   ],
   "source": [
    "n_train, n_val, n_test"
   ]
  },
  {
   "cell_type": "code",
   "execution_count": 44,
   "id": "476e7ed5",
   "metadata": {},
   "outputs": [],
   "source": [
    "idx = np.arange(n)\n",
    "np.random.seed(42) # for reproducibility\n",
    "np.random.shuffle(idx)"
   ]
  },
  {
   "cell_type": "code",
   "execution_count": 45,
   "id": "505e1ece",
   "metadata": {},
   "outputs": [],
   "source": [
    "df_train = df_new.iloc[idx[:n_train]]\n",
    "df_val = df_new.iloc[idx[n_train:n_train + n_val]]\n",
    "df_test = df_new.iloc[idx[n_train + n_val:]]"
   ]
  },
  {
   "cell_type": "code",
   "execution_count": 46,
   "id": "b92bfdd9",
   "metadata": {},
   "outputs": [
    {
     "data": {
      "text/html": [
       "<div>\n",
       "<style scoped>\n",
       "    .dataframe tbody tr th:only-of-type {\n",
       "        vertical-align: middle;\n",
       "    }\n",
       "\n",
       "    .dataframe tbody tr th {\n",
       "        vertical-align: top;\n",
       "    }\n",
       "\n",
       "    .dataframe thead th {\n",
       "        text-align: right;\n",
       "    }\n",
       "</style>\n",
       "<table border=\"1\" class=\"dataframe\">\n",
       "  <thead>\n",
       "    <tr style=\"text-align: right;\">\n",
       "      <th></th>\n",
       "      <th>engine_displacement</th>\n",
       "      <th>horsepower</th>\n",
       "      <th>vehicle_weight</th>\n",
       "      <th>model_year</th>\n",
       "      <th>fuel_efficiency_mpg</th>\n",
       "    </tr>\n",
       "  </thead>\n",
       "  <tbody>\n",
       "    <tr>\n",
       "      <th>483</th>\n",
       "      <td>220</td>\n",
       "      <td>144.0</td>\n",
       "      <td>2535.887591</td>\n",
       "      <td>2009</td>\n",
       "      <td>16.642943</td>\n",
       "    </tr>\n",
       "    <tr>\n",
       "      <th>7506</th>\n",
       "      <td>160</td>\n",
       "      <td>141.0</td>\n",
       "      <td>2741.170484</td>\n",
       "      <td>2019</td>\n",
       "      <td>16.298377</td>\n",
       "    </tr>\n",
       "    <tr>\n",
       "      <th>8795</th>\n",
       "      <td>230</td>\n",
       "      <td>155.0</td>\n",
       "      <td>2471.880237</td>\n",
       "      <td>2017</td>\n",
       "      <td>18.591822</td>\n",
       "    </tr>\n",
       "    <tr>\n",
       "      <th>1688</th>\n",
       "      <td>150</td>\n",
       "      <td>206.0</td>\n",
       "      <td>3748.164469</td>\n",
       "      <td>2015</td>\n",
       "      <td>11.818843</td>\n",
       "    </tr>\n",
       "    <tr>\n",
       "      <th>6217</th>\n",
       "      <td>300</td>\n",
       "      <td>111.0</td>\n",
       "      <td>2135.716359</td>\n",
       "      <td>2006</td>\n",
       "      <td>19.402209</td>\n",
       "    </tr>\n",
       "    <tr>\n",
       "      <th>...</th>\n",
       "      <td>...</td>\n",
       "      <td>...</td>\n",
       "      <td>...</td>\n",
       "      <td>...</td>\n",
       "      <td>...</td>\n",
       "    </tr>\n",
       "    <tr>\n",
       "      <th>1696</th>\n",
       "      <td>260</td>\n",
       "      <td>139.0</td>\n",
       "      <td>2606.972984</td>\n",
       "      <td>2009</td>\n",
       "      <td>16.964054</td>\n",
       "    </tr>\n",
       "    <tr>\n",
       "      <th>5685</th>\n",
       "      <td>280</td>\n",
       "      <td>132.0</td>\n",
       "      <td>4004.214323</td>\n",
       "      <td>2014</td>\n",
       "      <td>10.059094</td>\n",
       "    </tr>\n",
       "    <tr>\n",
       "      <th>6735</th>\n",
       "      <td>210</td>\n",
       "      <td>152.0</td>\n",
       "      <td>2500.175687</td>\n",
       "      <td>2020</td>\n",
       "      <td>17.593237</td>\n",
       "    </tr>\n",
       "    <tr>\n",
       "      <th>2052</th>\n",
       "      <td>250</td>\n",
       "      <td>154.0</td>\n",
       "      <td>2254.313245</td>\n",
       "      <td>2002</td>\n",
       "      <td>18.925748</td>\n",
       "    </tr>\n",
       "    <tr>\n",
       "      <th>1776</th>\n",
       "      <td>210</td>\n",
       "      <td>152.0</td>\n",
       "      <td>2435.203606</td>\n",
       "      <td>2004</td>\n",
       "      <td>17.965284</td>\n",
       "    </tr>\n",
       "  </tbody>\n",
       "</table>\n",
       "<p>5824 rows × 5 columns</p>\n",
       "</div>"
      ],
      "text/plain": [
       "      engine_displacement  horsepower  vehicle_weight  model_year  \\\n",
       "483                   220       144.0     2535.887591        2009   \n",
       "7506                  160       141.0     2741.170484        2019   \n",
       "8795                  230       155.0     2471.880237        2017   \n",
       "1688                  150       206.0     3748.164469        2015   \n",
       "6217                  300       111.0     2135.716359        2006   \n",
       "...                   ...         ...             ...         ...   \n",
       "1696                  260       139.0     2606.972984        2009   \n",
       "5685                  280       132.0     4004.214323        2014   \n",
       "6735                  210       152.0     2500.175687        2020   \n",
       "2052                  250       154.0     2254.313245        2002   \n",
       "1776                  210       152.0     2435.203606        2004   \n",
       "\n",
       "      fuel_efficiency_mpg  \n",
       "483             16.642943  \n",
       "7506            16.298377  \n",
       "8795            18.591822  \n",
       "1688            11.818843  \n",
       "6217            19.402209  \n",
       "...                   ...  \n",
       "1696            16.964054  \n",
       "5685            10.059094  \n",
       "6735            17.593237  \n",
       "2052            18.925748  \n",
       "1776            17.965284  \n",
       "\n",
       "[5824 rows x 5 columns]"
      ]
     },
     "execution_count": 46,
     "metadata": {},
     "output_type": "execute_result"
    }
   ],
   "source": [
    "df_train"
   ]
  },
  {
   "cell_type": "code",
   "execution_count": 47,
   "id": "252fde00",
   "metadata": {},
   "outputs": [
    {
     "data": {
      "text/plain": [
       "(5824, 1940, 1940)"
      ]
     },
     "execution_count": 47,
     "metadata": {},
     "output_type": "execute_result"
    }
   ],
   "source": [
    "len(df_train), len(df_val), len(df_test)"
   ]
  },
  {
   "cell_type": "code",
   "execution_count": 48,
   "id": "6d434c13",
   "metadata": {},
   "outputs": [],
   "source": [
    "df_train = df_train.reset_index(drop=True)\n",
    "df_val = df_val.reset_index(drop=True)   \n",
    "df_test = df_test.reset_index(drop=True)"
   ]
  },
  {
   "cell_type": "code",
   "execution_count": 49,
   "id": "2e5e5213",
   "metadata": {},
   "outputs": [],
   "source": [
    "y_train = df_train['fuel_efficiency_mpg'].values\n",
    "y_val = df_val['fuel_efficiency_mpg'].values\n",
    "y_test = df_test['fuel_efficiency_mpg'].values"
   ]
  },
  {
   "cell_type": "code",
   "execution_count": 50,
   "id": "61cec17f",
   "metadata": {},
   "outputs": [],
   "source": [
    "del df_train['fuel_efficiency_mpg']\n",
    "del df_val['fuel_efficiency_mpg']  \n",
    "del df_test['fuel_efficiency_mpg']"
   ]
  },
  {
   "cell_type": "code",
   "execution_count": 51,
   "id": "e3a45bd0",
   "metadata": {},
   "outputs": [
    {
     "data": {
      "text/plain": [
       "(5824, 1940, 1940)"
      ]
     },
     "execution_count": 51,
     "metadata": {},
     "output_type": "execute_result"
    }
   ],
   "source": [
    "len(y_train), len(y_val), len(y_test)"
   ]
  },
  {
   "cell_type": "markdown",
   "id": "2cdd9327",
   "metadata": {},
   "source": [
    "Question 3\n",
    "We need to deal with missing values for the column from Q1.\n",
    "We have two options: fill it with 0 or with the mean of this variable.\n",
    "Try both options. For each, train a linear regression model without regularization using the code from the lessons.\n",
    "For computing the mean, use the training only!\n",
    "Use the validation dataset to evaluate the models and compare the RMSE of each option.\n",
    "Round the RMSE scores to 2 decimal digits using round(score, 2)\n",
    "Which option gives better RMSE?\n",
    "Options:\n",
    "\n",
    "With 0\n",
    "With mean\n",
    "Both are equally good"
   ]
  },
  {
   "cell_type": "markdown",
   "id": "40cd0c4e",
   "metadata": {},
   "source": [
    "Filling Missing values with 0"
   ]
  },
  {
   "cell_type": "code",
   "execution_count": 58,
   "id": "ed33e193",
   "metadata": {},
   "outputs": [
    {
     "data": {
      "text/plain": [
       "engine_displacement    0\n",
       "horsepower             0\n",
       "vehicle_weight         0\n",
       "model_year             0\n",
       "dtype: int64"
      ]
     },
     "execution_count": 58,
     "metadata": {},
     "output_type": "execute_result"
    }
   ],
   "source": [
    "df_zero_train = df_train.copy()\n",
    "df_zero_val = df_val.copy() \n",
    "df_zero_test = df_test.copy()\n",
    "\n",
    "df_zero_train['horsepower'] = df_zero_train['horsepower'].fillna(0).values\n",
    "\n",
    "df_zero_train.isnull().sum()"
   ]
  },
  {
   "cell_type": "code",
   "execution_count": 63,
   "id": "f197fde2",
   "metadata": {},
   "outputs": [
    {
     "data": {
      "text/plain": [
       "array([[ 220.        ,  144.        , 2535.88759124, 2009.        ],\n",
       "       [ 160.        ,  141.        , 2741.17048439, 2019.        ],\n",
       "       [ 230.        ,  155.        , 2471.88023726, 2017.        ],\n",
       "       ...,\n",
       "       [ 210.        ,  152.        , 2500.17568746, 2020.        ],\n",
       "       [ 250.        ,  154.        , 2254.31324473, 2002.        ],\n",
       "       [ 210.        ,  152.        , 2435.20360628, 2004.        ]],\n",
       "      shape=(5824, 4))"
      ]
     },
     "execution_count": 63,
     "metadata": {},
     "output_type": "execute_result"
    }
   ],
   "source": [
    "X_zero_train = np.array(df_zero_train)\n",
    "X_zero_train"
   ]
  },
  {
   "cell_type": "code",
   "execution_count": 81,
   "id": "ef0cdf64",
   "metadata": {},
   "outputs": [
    {
     "data": {
      "text/plain": [
       "array([[ 180.        ,  112.        , 2772.13441008, 2020.        ],\n",
       "       [ 260.        ,  138.        , 3014.06152983, 2022.        ],\n",
       "       [ 140.        ,  181.        , 3652.18615117, 2016.        ],\n",
       "       ...,\n",
       "       [ 230.        ,  202.        , 3303.00068812, 2008.        ],\n",
       "       [ 220.        ,  169.        , 3293.42025107, 2008.        ],\n",
       "       [ 200.        ,  117.        , 2692.7812918 , 2004.        ]],\n",
       "      shape=(1940, 4))"
      ]
     },
     "execution_count": 81,
     "metadata": {},
     "output_type": "execute_result"
    }
   ],
   "source": [
    "X_zero_val = np.array(df_zero_val)\n",
    "X_zero_val"
   ]
  },
  {
   "cell_type": "code",
   "execution_count": 82,
   "id": "67bfb027",
   "metadata": {},
   "outputs": [
    {
     "data": {
      "text/plain": [
       "array([[ 140.        ,  148.        , 2704.82600507, 2017.        ],\n",
       "       [ 210.        ,  136.        , 3001.22749027, 2004.        ],\n",
       "       [ 210.        ,  152.        , 3747.467392  , 2021.        ],\n",
       "       ...,\n",
       "       [ 290.        ,  187.        , 2440.50803916, 2019.        ],\n",
       "       [ 260.        ,  129.        , 1865.40447951, 2019.        ],\n",
       "       [ 270.        ,  147.        , 2611.9394998 , 2017.        ]],\n",
       "      shape=(1940, 4))"
      ]
     },
     "execution_count": 82,
     "metadata": {},
     "output_type": "execute_result"
    }
   ],
   "source": [
    "X_zero_test = np.array(df_zero_test)\n",
    "X_zero_test"
   ]
  },
  {
   "cell_type": "code",
   "execution_count": 68,
   "id": "6e802463",
   "metadata": {},
   "outputs": [],
   "source": [
    "def train_linear_regression(X, y):\n",
    "    ones = np.ones(X.shape[0]) \n",
    "    X = np.column_stack([ones, X])\n",
    "    XTX = X.T.dot(X)\n",
    "    XTX_inv = np.linalg.inv(XTX)\n",
    "    W_full = XTX_inv.dot(X.T).dot(y)\n",
    "    return W_full[0], W_full[1:]  # return bias and weights"
   ]
  },
  {
   "cell_type": "code",
   "execution_count": 69,
   "id": "7624c639",
   "metadata": {},
   "outputs": [
    {
     "data": {
      "text/plain": [
       "(np.float64(28.827365474598718),\n",
       " array([ 9.93613218e-05,  3.54221891e-03, -5.01328015e-03,  3.42992869e-04]))"
      ]
     },
     "execution_count": 69,
     "metadata": {},
     "output_type": "execute_result"
    }
   ],
   "source": [
    "w0_zero, w_zero = train_linear_regression(X_zero_train, y_train)\n",
    "w0_zero, w_zero"
   ]
  },
  {
   "cell_type": "code",
   "execution_count": 71,
   "id": "d19b0299",
   "metadata": {},
   "outputs": [
    {
     "data": {
      "text/plain": [
       "array([17.33526223, 16.29296317, 17.69885099, ..., 17.54541307,\n",
       "       18.78287539, 17.86564842], shape=(5824,))"
      ]
     },
     "execution_count": 71,
     "metadata": {},
     "output_type": "execute_result"
    }
   ],
   "source": [
    "y_zero_pred = w0_zero + X_zero_train.dot(w_zero)\n",
    "y_zero_pred"
   ]
  },
  {
   "cell_type": "code",
   "execution_count": 72,
   "id": "e8efe2d2",
   "metadata": {},
   "outputs": [
    {
     "data": {
      "text/plain": [
       "<Axes: ylabel='Count'>"
      ]
     },
     "execution_count": 72,
     "metadata": {},
     "output_type": "execute_result"
    },
    {
     "data": {
      "image/png": "[encoded data removed]",
      "text/plain": [
       "<Figure size 640x480 with 1 Axes>"
      ]
     },
     "metadata": {},
     "output_type": "display_data"
    }
   ],
   "source": [
    "sns.histplot(y_zero_pred, bins=50, alpha = 0.5, color='red')\n",
    "sns.histplot(y_train, bins=50, alpha = 0.5, color='blue')"
   ]
  },
  {
   "cell_type": "code",
   "execution_count": 75,
   "id": "25ac3187",
   "metadata": {},
   "outputs": [],
   "source": [
    "def rmse(y, y_pred): \n",
    "    se = (y - y_pred) ** 2\n",
    "    mse = se.mean()\n",
    "    return np.sqrt(mse)"
   ]
  },
  {
   "cell_type": "code",
   "execution_count": 76,
   "id": "f977fc2a",
   "metadata": {},
   "outputs": [
    {
     "data": {
      "text/plain": [
       "np.float64(0.5202614265099076)"
      ]
     },
     "execution_count": 76,
     "metadata": {},
     "output_type": "execute_result"
    }
   ],
   "source": [
    "rmse(y_train, y_zero_pred)"
   ]
  },
  {
   "cell_type": "code",
   "execution_count": 79,
   "id": "6a1522d9",
   "metadata": {},
   "outputs": [
    {
     "data": {
      "text/plain": [
       "np.float64(0.52)"
      ]
     },
     "execution_count": 79,
     "metadata": {},
     "output_type": "execute_result"
    }
   ],
   "source": [
    "rmse(y_train, y_zero_pred).round(2)"
   ]
  },
  {
   "cell_type": "markdown",
   "id": "de0a5023",
   "metadata": {},
   "source": [
    "Question 4\n",
    "Now let's train a regularized linear regression.\n",
    "For this question, fill the NAs with 0.\n",
    "Try different values of r from this list: [0, 0.01, 0.1, 1, 5, 10, 100].\n",
    "Use RMSE to evaluate the model on the validation dataset.\n",
    "Round the RMSE scores to 2 decimal digits.\n",
    "Which r gives the best RMSE?\n",
    "If multiple options give the same best RMSE, select the smallest r.\n",
    "\n",
    "Options:\n",
    "\n",
    "0\n",
    "0.01\n",
    "1\n",
    "10\n",
    "100"
   ]
  },
  {
   "cell_type": "code",
   "execution_count": 84,
   "id": "569e092e",
   "metadata": {},
   "outputs": [],
   "source": [
    "def train_linear_regression_reg(X, y, r= 0.001):\n",
    "    ones = np.ones(X.shape[0]) \n",
    "    X = np.column_stack([ones, X])\n",
    "    \n",
    "    XTX = X.T.dot(X)\n",
    "    XTX = XTX + np.eye(XTX.shape[0]) * r  # Add small value to diagonal elements\n",
    "    \n",
    "    XTX_inv = np.linalg.inv(XTX)\n",
    "    W_full = XTX_inv.dot(X.T).dot(y)\n",
    "    return W_full[0], W_full[1:]  # return bias and weights"
   ]
  },
  {
   "cell_type": "code",
   "execution_count": 88,
   "id": "6ef7d6a8",
   "metadata": {},
   "outputs": [],
   "source": [
    "df_zero_val['horsepower'] = df_zero_val['horsepower'].fillna(0).values\n",
    "X_zero_val = np.array(df_zero_val)"
   ]
  },
  {
   "cell_type": "code",
   "execution_count": 89,
   "id": "502169ed",
   "metadata": {},
   "outputs": [
    {
     "name": "stdout",
     "output_type": "stream",
     "text": [
      "0 0.5173782638841185\n",
      "0.01 0.5171115525775559\n",
      "0.1 0.5187525130701629\n",
      "1 0.5222348802092528\n",
      "5 0.5228916092823455\n",
      "10 0.5229812979636569\n",
      "100 0.5230636233819926\n"
     ]
    }
   ],
   "source": [
    "for r in [0, 0.01, 0.1, 1, 5, 10, 100]:\n",
    "    w0, w = train_linear_regression_reg(X_zero_train, y_train, r=r)\n",
    "\n",
    "    X_val = X_zero_val\n",
    "    y_pred = w0 + X_val.dot(w)\n",
    "    rmse(y_val, y_pred)\n",
    "    print(r, rmse(y_val, y_pred))"
   ]
  },
  {
   "cell_type": "markdown",
   "id": "6e6fe555",
   "metadata": {},
   "source": [
    "Filling Missing values with Mean"
   ]
  },
  {
   "cell_type": "code",
   "execution_count": 65,
   "id": "6413fda2",
   "metadata": {},
   "outputs": [
    {
     "data": {
      "text/plain": [
       "engine_displacement    0\n",
       "horsepower             0\n",
       "vehicle_weight         0\n",
       "model_year             0\n",
       "dtype: int64"
      ]
     },
     "execution_count": 65,
     "metadata": {},
     "output_type": "execute_result"
    }
   ],
   "source": [
    "df_mean_train = df_train.copy()\n",
    "df_mean_val = df_val.copy() \n",
    "df_mean_test = df_test.copy()\n",
    "\n",
    "df_mean_train['horsepower'] = df_mean_train['horsepower'].fillna(df_mean_train['horsepower'].mean()).values\n",
    "\n",
    "df_mean_train.isnull().sum()"
   ]
  },
  {
   "cell_type": "code",
   "execution_count": 66,
   "id": "11546db6",
   "metadata": {},
   "outputs": [
    {
     "data": {
      "text/plain": [
       "array([[ 220.        ,  144.        , 2535.88759124, 2009.        ],\n",
       "       [ 160.        ,  141.        , 2741.17048439, 2019.        ],\n",
       "       [ 230.        ,  155.        , 2471.88023726, 2017.        ],\n",
       "       ...,\n",
       "       [ 210.        ,  152.        , 2500.17568746, 2020.        ],\n",
       "       [ 250.        ,  154.        , 2254.31324473, 2002.        ],\n",
       "       [ 210.        ,  152.        , 2435.20360628, 2004.        ]],\n",
       "      shape=(5824, 4))"
      ]
     },
     "execution_count": 66,
     "metadata": {},
     "output_type": "execute_result"
    }
   ],
   "source": [
    "X_mean_train = np.array(df_mean_train)\n",
    "X_mean_train"
   ]
  },
  {
   "cell_type": "code",
   "execution_count": 70,
   "id": "726fa568",
   "metadata": {},
   "outputs": [
    {
     "data": {
      "text/plain": [
       "(np.float64(28.92525995211667),\n",
       " array([ 0.00012093,  0.01030308, -0.00501009, -0.00023463]))"
      ]
     },
     "execution_count": 70,
     "metadata": {},
     "output_type": "execute_result"
    }
   ],
   "source": [
    "w0_mean, w_mean = train_linear_regression(X_mean_train, y_train)\n",
    "w0_mean, w_mean"
   ]
  },
  {
   "cell_type": "code",
   "execution_count": 73,
   "id": "12798a29",
   "metadata": {},
   "outputs": [
    {
     "data": {
      "text/plain": [
       "array([17.25910991, 16.19011261, 17.6924588 , ..., 17.51666431,\n",
       "       18.77812427, 17.84593445], shape=(5824,))"
      ]
     },
     "execution_count": 73,
     "metadata": {},
     "output_type": "execute_result"
    }
   ],
   "source": [
    "y_mean_pred = w0_mean + X_mean_train.dot(w_mean)\n",
    "y_mean_pred"
   ]
  },
  {
   "cell_type": "code",
   "execution_count": 74,
   "id": "b753f8c9",
   "metadata": {},
   "outputs": [
    {
     "data": {
      "text/plain": [
       "<Axes: ylabel='Count'>"
      ]
     },
     "execution_count": 74,
     "metadata": {},
     "output_type": "execute_result"
    },
    {
     "data": {
      "image/png": "[encoded data removed]",
      "text/plain": [
       "<Figure size 640x480 with 1 Axes>"
      ]
     },
     "metadata": {},
     "output_type": "display_data"
    }
   ],
   "source": [
    "sns.histplot(y_mean_pred, bins=50, alpha = 0.5, color='red')\n",
    "sns.histplot(y_train, bins=50, alpha = 0.5, color='blue')"
   ]
  },
  {
   "cell_type": "code",
   "execution_count": 77,
   "id": "f185fbea",
   "metadata": {},
   "outputs": [
    {
     "data": {
      "text/plain": [
       "np.float64(0.46244121379599645)"
      ]
     },
     "execution_count": 77,
     "metadata": {},
     "output_type": "execute_result"
    }
   ],
   "source": [
    "rmse(y_train, y_mean_pred)"
   ]
  },
  {
   "cell_type": "code",
   "execution_count": 78,
   "id": "5228ada5",
   "metadata": {},
   "outputs": [
    {
     "data": {
      "text/plain": [
       "np.float64(0.46)"
      ]
     },
     "execution_count": 78,
     "metadata": {},
     "output_type": "execute_result"
    }
   ],
   "source": [
    "rmse(y_train, y_mean_pred).round(2)"
   ]
  },
  {
   "cell_type": "markdown",
   "id": "3e74871e",
   "metadata": {},
   "source": [
    "Question 5\n",
    "We used seed 42 for splitting the data. Let's find out how selecting the seed influences our score.\n",
    "Try different seed values: [0, 1, 2, 3, 4, 5, 6, 7, 8, 9].\n",
    "For each seed, do the train/validation/test split with 60%/20%/20% distribution.\n",
    "Fill the missing values with 0 and train a model without regularization.\n",
    "For each seed, evaluate the model on the validation dataset and collect the RMSE scores.\n",
    "What's the standard deviation of all the scores? To compute the standard deviation, use np.std.\n",
    "Round the result to 3 decimal digits (round(std, 3))\n",
    "What's the value of std?\n",
    "\n",
    "0.001\n",
    "0.006\n",
    "0.060\n",
    "0.600"
   ]
  },
  {
   "cell_type": "code",
   "execution_count": 101,
   "id": "321087b6",
   "metadata": {},
   "outputs": [
    {
     "name": "stdout",
     "output_type": "stream",
     "text": [
      "[np.float64(3.517048602366516e-10), np.float64(6.178462871908001e-12), np.float64(2.977778355704152e-11), np.float64(1.5467886504523304e-10), np.float64(2.3950181613139845e-11), np.float64(2.5030829552547143e-11), np.float64(1.965322973907655e-10), np.float64(3.2587118256100925e-11), np.float64(3.0912251824310454e-10), np.float64(8.57526784552864e-11)]\n",
      "Standard Deviation of RMSEs: 1.2026837538289179e-10\n",
      "0.0\n"
     ]
    }
   ],
   "source": [
    "n = len(df_new)\n",
    "val_rmse_list = []\n",
    "\n",
    "for s in range(10):\n",
    "    np.random.seed(s)\n",
    "    idx = np.arange(n)\n",
    "    np.random.shuffle(idx)\n",
    "    \n",
    "    #Train - 60%, Val - 20%, Test - 20%\n",
    "    n_val= int(n * 0.2)\n",
    "    n_test= int(n * 0.2)\n",
    "    n_train = n - n_val - n_test\n",
    "    \n",
    "    df_train = df_new.iloc[idx[:n_train]].copy()\n",
    "    df_val = df_new.iloc[idx[n_train:n_train+n_val]].copy()\n",
    "    df_test = df_new.iloc[idx[n_train+n_val:]].copy()\n",
    "    \n",
    "    # Fill missing values with 0\n",
    "    df_train['horsepower'] = df_train['horsepower'].fillna(0).values\n",
    "    X_train = np.array(df_train)\n",
    "    y_train = df_train['fuel_efficiency_mpg'].to_numpy()\n",
    "\n",
    "    df_val['horsepower'] = df_val['horsepower'].fillna(0).values\n",
    "    X_val = np.array(df_val)\n",
    "    y_val = df_val['fuel_efficiency_mpg'].to_numpy()\n",
    "    \n",
    "    del df_train['fuel_efficiency_mpg']\n",
    "    del df_val['fuel_efficiency_mpg']  \n",
    "    del df_test['fuel_efficiency_mpg']\n",
    "    \n",
    "    # Train model\n",
    "    w0, w = train_linear_regression(X_train, y_train)\n",
    "    \n",
    "    # Predict and evaluate\n",
    "    y_pred = w0 + X_val.dot(w)\n",
    "    val_rmse_list.append(rmse(y_val, y_pred))\n",
    "\n",
    "# Compute standard deviation\n",
    "std_rmse = np.std(val_rmse_list)\n",
    "print(val_rmse_list)\n",
    "print(\"Standard Deviation of RMSEs:\" , std_rmse)\n",
    "print(round(std_rmse, 3))"
   ]
  },
  {
   "cell_type": "markdown",
   "id": "56a082cd",
   "metadata": {},
   "source": [
    "Note: Standard deviation shows how different the values are. If it's low, then all values are approximately the same. If it's high, the values are different. If standard deviation of scores is low, then our model is stable."
   ]
  },
  {
   "cell_type": "markdown",
   "id": "87b4d266",
   "metadata": {},
   "source": [
    "Question 6\n",
    "Split the dataset like previously, use seed 9.\n",
    "Combine train and validation datasets.\n",
    "Fill the missing values with 0 and train a model with r=0.001.\n",
    "What's the RMSE on the test dataset?\n",
    "Options:\n",
    "\n",
    "0.15\n",
    "0.515\n",
    "5.15\n",
    "51.5"
   ]
  },
  {
   "cell_type": "code",
   "execution_count": 102,
   "id": "ff37f9f1",
   "metadata": {},
   "outputs": [],
   "source": [
    "np.random.seed(9)\n",
    "idx = np.arange(n)\n",
    "np.random.shuffle(idx)"
   ]
  },
  {
   "cell_type": "code",
   "execution_count": 103,
   "id": "bf988c3c",
   "metadata": {},
   "outputs": [],
   "source": [
    "#Train - 60%, Val - 20%, Test - 20%\n",
    "n_val= int(n * 0.2)\n",
    "n_test= int(n * 0.2)\n",
    "n_train = n - n_val - n_test"
   ]
  },
  {
   "cell_type": "code",
   "execution_count": 109,
   "id": "150903ed",
   "metadata": {},
   "outputs": [],
   "source": [
    "df_train = df_new.iloc[idx[:n_train]].copy()\n",
    "df_val = df_new.iloc[idx[n_train:n_train+n_val]].copy()\n",
    "df_test = df_new.iloc[idx[n_train+n_val:]].copy()"
   ]
  },
  {
   "cell_type": "code",
   "execution_count": 111,
   "id": "ef74f47f",
   "metadata": {},
   "outputs": [],
   "source": [
    "# Fill missing values with 0\n",
    "df_train['horsepower'] = df_train['horsepower'].fillna(0).values\n",
    "y_train = df_train['fuel_efficiency_mpg'].to_numpy()\n",
    "\n",
    "df_val['horsepower'] = df_val['horsepower'].fillna(0).values\n",
    "y_val = df_val['fuel_efficiency_mpg'].to_numpy()\n"
   ]
  },
  {
   "cell_type": "code",
   "execution_count": 112,
   "id": "e7770b17",
   "metadata": {},
   "outputs": [],
   "source": [
    "del df_train['fuel_efficiency_mpg']\n",
    "del df_val['fuel_efficiency_mpg']  \n",
    "del df_test['fuel_efficiency_mpg']"
   ]
  },
  {
   "cell_type": "code",
   "execution_count": 113,
   "id": "ef5af53d",
   "metadata": {},
   "outputs": [],
   "source": [
    "X_train = np.array(df_train)\n",
    "X_val = np.array(df_val)"
   ]
  },
  {
   "cell_type": "code",
   "execution_count": 116,
   "id": "cd613cfa",
   "metadata": {},
   "outputs": [
    {
     "data": {
      "text/plain": [
       "(np.float64(27.086439654118813),\n",
       " array([-7.49586511e-05,  3.51346639e-03, -5.02046531e-03,  1.24171106e-03]))"
      ]
     },
     "execution_count": 116,
     "metadata": {},
     "output_type": "execute_result"
    }
   ],
   "source": [
    "# Train model\n",
    "w0, w = train_linear_regression_reg(X_train, y_train, r=0.001)\n",
    "w0, w"
   ]
  },
  {
   "cell_type": "code",
   "execution_count": 119,
   "id": "50c88751",
   "metadata": {},
   "outputs": [
    {
     "data": {
      "text/plain": [
       "np.float64(0.5131790626923073)"
      ]
     },
     "execution_count": 119,
     "metadata": {},
     "output_type": "execute_result"
    }
   ],
   "source": [
    "# Predict and evaluate\n",
    "y_pred = w0 + X_val.dot(w)\n",
    "rmse(y_val, y_pred)"
   ]
  }
 ],
 "metadata": {
  "kernelspec": {
   "display_name": "Python 3",
   "language": "python",
   "name": "python3"
  },
  "language_info": {
   "codemirror_mode": {
    "name": "ipython",
    "version": 3
   },
   "file_extension": ".py",
   "mimetype": "text/x-python",
   "name": "python",
   "nbconvert_exporter": "python",
   "pygments_lexer": "ipython3",
   "version": "3.13.2"
  }
 },
 "nbformat": 4,
 "nbformat_minor": 5
}
