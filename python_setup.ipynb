{
 "cells": [
  {
   "cell_type": "markdown",
   "metadata": {},
   "source": [
    "# Python Data Science Environment Setup\n",
    "\n",
    "This notebook demonstrates how to install and verify Python packages essential for data science and machine learning:\n",
    "- Python (already available in Jupyter)\n",
    "- NumPy\n",
    "- Pandas\n",
    "- Matplotlib\n",
    "- Seaborn\n",
    "\n",
    "## Prerequisites\n",
    "Make sure you have Python installed and are running this in a Jupyter environment."
   ]
  },
  {
   "cell_type": "markdown",
   "metadata": {},
   "source": [
    "## 1. Check Python Version\n",
    "\n",
    "First, let's verify that Python is available and check its version:"
   ]
  },
  {
   "cell_type": "code",
   "execution_count": null,
   "metadata": {},
   "outputs": [],
   "source": [
    "import sys\n",
    "print(f\"Python version: {sys.version}\")\n",
    "print(f\"Python executable: {sys.executable}\")"
   ]
  },
  {
   "cell_type": "markdown",
   "metadata": {},
   "source": [
    "## 2. Install Required Packages\n",
    "\n",
    "Install all the required packages using pip. The `!` prefix allows us to run shell commands from within the notebook:"
   ]
  },
  {
   "cell_type": "code",
   "execution_count": null,
   "metadata": {},
   "outputs": [],
   "source": [
    "# Install NumPy - fundamental package for numerical computing\n",
    "!pip install numpy"
   ]
  },
  {
   "cell_type": "code",
   "execution_count": null,
   "metadata": {},
   "outputs": [],
   "source": [
    "# Install Pandas - data manipulation and analysis library\n",
    "!pip install pandas"
   ]
  },
  {
   "cell_type": "code",
   "execution_count": null,
   "metadata": {},
   "outputs": [],
   "source": [
    "# Install Matplotlib - plotting library\n",
    "!pip install matplotlib"
   ]
  },
  {
   "cell_type": "code",
   "execution_count": null,
   "metadata": {},
   "outputs": [],
   "source": [
    "# Install Seaborn - statistical data visualization library\n",
    "!pip install seaborn"
   ]
  },
  {
   "cell_type": "markdown",
   "metadata": {},
   "source": [
    "### Alternative: Install All Packages at Once\n",
    "\n",
    "You can also install all packages in a single command:"
   ]
  },
  {
   "cell_type": "code",
   "execution_count": null,
   "metadata": {},
   "outputs": [],
   "source": [
    "# Install all packages at once\n",
    "!pip install numpy pandas matplotlib seaborn"
   ]
  },
  {
   "cell_type": "markdown",
   "metadata": {},
   "source": [
    "## 3. Verify Installation\n",
    "\n",
    "Let's import each package and check their versions to ensure they were installed correctly:"
   ]
  },
  {
   "cell_type": "code",
   "execution_count": null,
   "metadata": {},
   "outputs": [],
   "source": [
    "# Import and verify NumPy\n",
    "import numpy as np\n",
    "print(f\"NumPy version: {np.__version__}\")\n",
    "print(\"NumPy imported successfully!\")"
   ]
  },
  {
   "cell_type": "code",
   "execution_count": null,
   "metadata": {},
   "outputs": [],
   "source": [
    "# Import and verify Pandas\n",
    "import pandas as pd\n",
    "print(f\"Pandas version: {pd.__version__}\")\n",
    "print(\"Pandas imported successfully!\")"
   ]
  },
  {
   "cell_type": "code",
   "execution_count": null,
   "metadata": {},
   "outputs": [],
   "source": [
    "# Import and verify Matplotlib\n",
    "import matplotlib\n",
    "import matplotlib.pyplot as plt\n",
    "print(f\"Matplotlib version: {matplotlib.__version__}\")\n",
    "print(\"Matplotlib imported successfully!\")"
   ]
  },
  {
   "cell_type": "code",
   "execution_count": null,
   "metadata": {},
   "outputs": [],
   "source": [
    "# Import and verify Seaborn\n",
    "import seaborn as sns\n",
    "print(f\"Seaborn version: {sns.__version__}\")\n",
    "print(\"Seaborn imported successfully!\")"
   ]
  },
  {
   "cell_type": "markdown",
   "metadata": {},
   "source": [
    "## 4. Test Package Functionality\n",
    "\n",
    "Let's create simple examples to demonstrate that each package is working correctly:"
   ]
  },
  {
   "cell_type": "markdown",
   "metadata": {},
   "source": [
    "### NumPy Example"
   ]
  },
  {
   "cell_type": "code",
   "execution_count": null,
   "metadata": {},
   "outputs": [],
   "source": [
    "# Create a simple NumPy array and perform basic operations\n",
    "arr = np.array([1, 2, 3, 4, 5])\n",
    "print(f\"Array: {arr}\")\n",
    "print(f\"Array shape: {arr.shape}\")\n",
    "print(f\"Array mean: {np.mean(arr)}\")\n",
    "print(f\"Array sum: {np.sum(arr)}\")"
   ]
  },
  {
   "cell_type": "markdown",
   "metadata": {},
   "source": [
    "### Pandas Example"
   ]
  },
  {
   "cell_type": "code",
   "execution_count": null,
   "metadata": {},
   "outputs": [],
   "source": [
    "# Create a simple DataFrame and display basic info\n",
    "data = {\n",
    "    'Name': ['Alice', 'Bob', 'Charlie', 'Diana'],\n",
    "    'Age': [25, 30, 35, 28],\n",
    "    'City': ['New York', 'London', 'Tokyo', 'Paris']\n",
    "}\n",
    "df = pd.DataFrame(data)\n",
    "print(\"Sample DataFrame:\")\n",
    "print(df)\n",
    "print(f\"\\nDataFrame shape: {df.shape}\")\n",
    "print(f\"Column names: {list(df.columns)}\")"
   ]
  },
  {
   "cell_type": "markdown",
   "metadata": {},
   "source": [
    "### Matplotlib Example"
   ]
  },
  {
   "cell_type": "code",
   "execution_count": null,
   "metadata": {},
   "outputs": [],
   "source": [
    "# Create a simple plot\n",
    "x = np.linspace(0, 10, 100)\n",
    "y = np.sin(x)\n",
    "\n",
    "plt.figure(figsize=(8, 6))\n",
    "plt.plot(x, y, 'b-', linewidth=2)\n",
    "plt.title('Simple Sine Wave - Matplotlib Test')\n",
    "plt.xlabel('X values')\n",
    "plt.ylabel('Y values')\n",
    "plt.grid(True, alpha=0.3)\n",
    "plt.show()\n",
    "\n",
    "print(\"Matplotlib plot created successfully!\")"
   ]
  },
  {
   "cell_type": "markdown",
   "metadata": {},
   "source": [
    "### Seaborn Example"
   ]
  },
  {
   "cell_type": "code",
   "execution_count": null,
   "metadata": {},
   "outputs": [],
   "source": [
    "# Create a more stylized plot using Seaborn\n",
    "# Generate sample data\n",
    "np.random.seed(42)\n",
    "data = pd.DataFrame({\n",
    "    'x': np.random.randn(100),\n",
    "    'y': np.random.randn(100),\n",
    "    'category': np.random.choice(['A', 'B', 'C'], 100)\n",
    "})\n",
    "\n",
    "# Set Seaborn style\n",
    "sns.set_style(\"whitegrid\")\n",
    "\n",
    "# Create a scatter plot\n",
    "plt.figure(figsize=(8, 6))\n",
    "sns.scatterplot(data=data, x='x', y='y', hue='category', s=60)\n",
    "plt.title('Seaborn Scatter Plot - Package Test')\n",
    "plt.show()\n",
    "\n",
    "print(\"Seaborn plot created successfully!\")"
   ]
  },
  {
   "cell_type": "markdown",
   "metadata": {},
   "source": [
    "## 5. Summary\n",
    "\n",
    "If all the cells above executed without errors, congratulations! You have successfully:\n",
    "\n",
    "✅ **Python**: Already available in Jupyter environment  \n",
    "✅ **NumPy**: Installed and working - fundamental numerical computing  \n",
    "✅ **Pandas**: Installed and working - data manipulation and analysis  \n",
    "✅ **Matplotlib**: Installed and working - plotting and visualization  \n",
    "✅ **Seaborn**: Installed and working - statistical data visualization  \n",
    "\n",
    "Your Python environment is now ready for data science and machine learning tasks!\n",
    "\n",
    "### Next Steps\n",
    "- You can now use these packages for data analysis, visualization, and machine learning\n",
    "- Consider creating a `requirements.txt` file to track your dependencies\n",
    "- Explore the documentation for each package to learn more advanced features"
   ]
  },
  {
   "cell_type": "markdown",
   "metadata": {},
   "source": [
    "## 6. Package Information Summary"
   ]
  },
  {
   "cell_type": "code",
   "execution_count": null,
   "metadata": {},
   "outputs": [],
   "source": [
    "# Display all package versions in one place\n",
    "print(\"=\" * 50)\n",
    "print(\"INSTALLED PACKAGE VERSIONS\")\n",
    "print(\"=\" * 50)\n",
    "print(f\"Python: {sys.version.split()[0]}\")\n",
    "print(f\"NumPy: {np.__version__}\")\n",
    "print(f\"Pandas: {pd.__version__}\")\n",
    "print(f\"Matplotlib: {matplotlib.__version__}\")\n",
    "print(f\"Seaborn: {sns.__version__}\")\n",
    "print(\"=\" * 50)\n",
    "print(\"All packages installed and verified successfully!\")"
   ]
  }
 ],
 "metadata": {
  "kernelspec": {
   "display_name": "Python 3",
   "language": "python",
   "name": "python3"
  },
  "language_info": {
   "codemirror_mode": {
    "name": "ipython",
    "version": 3
   },
   "file_extension": ".py",
   "mimetype": "text/x-python",
   "name": "python",
   "nbconvert_exporter": "python",
   "pygments_lexer": "ipython3",
   "version": "3.8.0"
  }
 },
 "nbformat": 4,
 "nbformat_minor": 4
}